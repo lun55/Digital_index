{
 "cells": [
  {
   "cell_type": "code",
   "execution_count": 10,
   "id": "4389fda1",
   "metadata": {},
   "outputs": [],
   "source": [
    "import pandas as pd\n",
    "import os,glob"
   ]
  },
  {
   "cell_type": "code",
   "execution_count": null,
   "id": "2bb21276",
   "metadata": {},
   "outputs": [],
   "source": [
    "# 数据价值化 数字产业化\n",
    "# 一级指标下的百度指数\n",
    "dir_path = r\"E:\\Code\\baidu_index\\产业数字化\" # 指数所在的文件夹\n",
    "citys = [\"福州\",\n",
    "        \"莆田\",\n",
    "        \"三明\",\n",
    "        \"龙岩\",\n",
    "        \"厦门\",\n",
    "        \"泉州\",\n",
    "        \"漳州\",\n",
    "        \"宁德\",\n",
    "        \"南平\"]"
   ]
  },
  {
   "cell_type": "code",
   "execution_count": null,
   "id": "fead872b",
   "metadata": {},
   "outputs": [],
   "source": [
    "# 获取目标文件夹下的所有文件\n",
    "csv_files = glob.glob(os.path.join(dir_path, \"**/*.xlsx\"), recursive=True)"
   ]
  },
  {
   "cell_type": "code",
   "execution_count": null,
   "id": "3370dfa5",
   "metadata": {},
   "outputs": [],
   "source": [
    "for city in citys:\n",
    "    city_files = [path for path in csv_files if city in path] # 筛选当前城市的文件\n",
    "    dfs = [pd.read_excel(f) for f in city_files]\n",
    "    if len(dfs) > 0:\n",
    "        # 以第一个文件为基准，逐步合并\n",
    "        merged_df = dfs[0]\n",
    "        for df in dfs[1:]:\n",
    "            merged_df = pd.merge(\n",
    "                merged_df, \n",
    "                df, \n",
    "                on=\"日期\",  # 替换为实际的关键列名\n",
    "                how=\"outer\"  # 保留所有数据\n",
    "            )\n",
    "        merged_df.to_excel(f\"{city}_产业数字化.xlsx\", index=False) # 生成文件到当前目录"
   ]
  },
  {
   "cell_type": "code",
   "execution_count": null,
   "id": "cf9a0698",
   "metadata": {},
   "outputs": [
    {
     "data": {
      "text/plain": [
       "['三明_产业数字化.xlsx',\n",
       " '三明_数字产业化.xlsx',\n",
       " '三明_数字化治理.xlsx',\n",
       " '三明_数据价值化.xlsx',\n",
       " '南平_产业数字化.xlsx',\n",
       " '南平_数字产业化.xlsx',\n",
       " '南平_数字化治理.xlsx',\n",
       " '南平_数据价值化.xlsx',\n",
       " '厦门_产业数字化.xlsx',\n",
       " '厦门_数字产业化.xlsx',\n",
       " '厦门_数字化治理.xlsx',\n",
       " '厦门_数据价值化.xlsx',\n",
       " '宁德_产业数字化.xlsx',\n",
       " '宁德_数字产业化.xlsx',\n",
       " '宁德_数字化治理.xlsx',\n",
       " '宁德_数据价值化.xlsx',\n",
       " '泉州_产业数字化.xlsx',\n",
       " '泉州_数字产业化.xlsx',\n",
       " '泉州_数字化治理.xlsx',\n",
       " '泉州_数据价值化.xlsx',\n",
       " '漳州_产业数字化.xlsx',\n",
       " '漳州_数字产业化.xlsx',\n",
       " '漳州_数字化治理.xlsx',\n",
       " '漳州_数据价值化.xlsx',\n",
       " '福州_产业数字化.xlsx',\n",
       " '福州_数字产业化.xlsx',\n",
       " '福州_数字化治理.xlsx',\n",
       " '福州_数据价值化.xlsx',\n",
       " '莆田_产业数字化.xlsx',\n",
       " '莆田_数字产业化.xlsx',\n",
       " '莆田_数字化治理.xlsx',\n",
       " '莆田_数据价值化.xlsx',\n",
       " '龙岩_产业数字化.xlsx',\n",
       " '龙岩_数字产业化.xlsx',\n",
       " '龙岩_数字化治理.xlsx',\n",
       " '龙岩_数据价值化.xlsx']"
      ]
     },
     "execution_count": 14,
     "metadata": {},
     "output_type": "execute_result"
    }
   ],
   "source": [
    "# 获取当前目录的文件\n",
    "csv_files = glob.glob(os.path.join(\"\", \"**/*.xlsx\"), recursive=True)\n",
    "csv_files"
   ]
  },
  {
   "cell_type": "code",
   "execution_count": null,
   "id": "e5d46f77",
   "metadata": {},
   "outputs": [],
   "source": [
    "# 按周聚合\n",
    "save_path = 'D:\\文档\\坚果云\\区域经济\\数字经济\\数字经济指数\\数据\\百度指数_数字经济\\数字经济指标' # 结果保存路径\n",
    "for city_file in csv_files:\n",
    "    df = pd.read_excel(city_file)\n",
    "    df['日期'] = pd.to_datetime(df['日期'])\n",
    "    df['week'] = df['日期'].dt.strftime('%G-%V')  # 格式如\"2022-52\"\n",
    "    # 添加ISO年周列（关键步骤）\n",
    "    # 步骤2：自动选择所有数值列（排除非数值列）\n",
    "    numeric_cols = df.select_dtypes(include=['int64', 'float64']).columns.tolist()\n",
    "\n",
    "    # 步骤3：动态分组求和\n",
    "    df_new = df[numeric_cols + ['week']].groupby('week').sum()\n",
    "\n",
    "    # 步骤4：计算每周总和（自动适应所有数值列）\n",
    "    df_new['每周总和'] = df_new.sum(axis=1)\n",
    "    df_new['week'] = df_new.index\n",
    "    save_file = os.path.join(save_path,city_file)\n",
    "    df_new.to_excel(save_file, index=False)"
   ]
  }
 ],
 "metadata": {
  "kernelspec": {
   "display_name": "gis",
   "language": "python",
   "name": "python3"
  },
  "language_info": {
   "codemirror_mode": {
    "name": "ipython",
    "version": 3
   },
   "file_extension": ".py",
   "mimetype": "text/x-python",
   "name": "python",
   "nbconvert_exporter": "python",
   "pygments_lexer": "ipython3",
   "version": "3.10.13"
  }
 },
 "nbformat": 4,
 "nbformat_minor": 5
}
