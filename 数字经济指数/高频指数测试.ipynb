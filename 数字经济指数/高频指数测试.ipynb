{
 "cells": [
  {
   "cell_type": "code",
   "execution_count": 7,
   "id": "b3499463",
   "metadata": {},
   "outputs": [
    {
     "name": "stdout",
     "output_type": "stream",
     "text": [
      "最终权重：\n",
      " 专利        0.2\n",
      "招聘        0.1\n",
      "云计算与AI    0.2\n",
      "产业数字化     0.3\n",
      "数字化治理     0.1\n",
      "数据价值化     0.1\n",
      "dtype: float64\n",
      "city           三明        南平        厦门        宁德        泉州        漳州        福州  \\\n",
      "week                                                                            \n",
      "2021-52  0.010738  0.007893  0.070686  0.012341  0.056837  0.023402  0.078054   \n",
      "2022-01  0.113946  0.113657  0.465714  0.139222  0.325156  0.201506  0.520823   \n",
      "2022-02  0.110855  0.112297  0.497871  0.120683  0.338873  0.211899  0.555158   \n",
      "2022-03  0.108000  0.101276  0.522170  0.132270  0.344877  0.192064  0.517452   \n",
      "2022-04  0.130124  0.123387  0.561204  0.142049  0.339258  0.206361  0.557650   \n",
      "\n",
      "city           莆田        龙岩  \n",
      "week                         \n",
      "2021-52  0.028620  0.001597  \n",
      "2022-01  0.162436  0.112418  \n",
      "2022-02  0.184317  0.110075  \n",
      "2022-03  0.189889  0.130256  \n",
      "2022-04  0.187408  0.126551  \n"
     ]
    }
   ],
   "source": [
    "import pandas as pd\n",
    "import numpy as np\n",
    "import os\n",
    "def normalize_global(df, indicator_cols):\n",
    "    min_vals = df[indicator_cols].min()\n",
    "    max_vals = df[indicator_cols].max()\n",
    "    return (df[indicator_cols] - min_vals) / (max_vals - min_vals + 1e-10)\n",
    "\n",
    "def compute_entropy_weights(df, indicator_cols):\n",
    "    norm_df = normalize_global(df, indicator_cols).replace(0, 1e-10)\n",
    "    P = norm_df.div(norm_df.sum(axis=0), axis=1)\n",
    "    logP = np.log(P)\n",
    "    E = -(P * logP).sum(axis=0) / np.log(len(df))\n",
    "    d = 1 - E\n",
    "    w = d / d.sum()\n",
    "    return w\n",
    "\n",
    "def compute_index(df, indicator_cols, weights):\n",
    "    norm_df = normalize_global(df, indicator_cols)\n",
    "    return norm_df.dot(weights)\n",
    "\n",
    "# ==== Step 1：读取所有城市数据 ====\n",
    "citys = [\"福州\",\n",
    "        \"莆田\",\n",
    "        \"三明\",\n",
    "        \"龙岩\",\n",
    "        \"厦门\",\n",
    "        \"泉州\",\n",
    "        \"漳州\",\n",
    "        \"宁德\",\n",
    "        \"南平\"]\n",
    "dir_path = \"E:\\Code\\数字经济指标\\分城市合并\"\n",
    "indicator_cols = ['专利','招聘','云计算与AI', '产业数字化', '数字化治理', '数据价值化']\n",
    "all_data = []\n",
    "\n",
    "for city in citys:\n",
    "    city_df = pd.read_excel(os.path.join(dir_path,f\"{city}数字经济指标汇总2022-2024.xlsx\"))\n",
    "    city_df['city'] = city  # 添加城市列\n",
    "    all_data.append(city_df)\n",
    "\n",
    "# 拼接所有城市数据\n",
    "df_all = pd.concat(all_data, ignore_index=True)\n",
    "\n",
    "# ==== Step 2：选定统一基准期数据计算熵权 ====\n",
    "base_df = df_all[df_all['week'].between('2022-01', '2022-52')]\n",
    "weights_entropy = compute_entropy_weights(base_df, indicator_cols)\n",
    "\n",
    "# ==== Step 3：融合主观权重（可选）====\n",
    "manual_weights = pd.Series({'专利': 0.20, '招聘':0.10, '云计算与AI': 0.20,\n",
    "                             '产业数字化': 0.30, '数字化治理': 0.10, '数据价值化': 0.10})\n",
    "# final_weights = weights_entropy * manual_weights\n",
    "# final_weights = final_weights / final_weights.sum()  # 权重归一化\n",
    "# print(\"最终权重：\\n\", final_weights)\n",
    "\n",
    "# ==== Step 4：统一计算指数 ====\n",
    "df_all['数字经济指数'] = compute_index(df_all, indicator_cols, manual_weights)\n",
    "print(\"最终权重：\\n\", manual_weights)\n",
    "# ==== Step 5：导出或分城市分析 ====\n",
    "df_all.to_excel(\"所有城市_数字经济指数_可比1.xlsx\", index=False)\n",
    "\n",
    "# 示例：按城市和周查看趋势\n",
    "pivot = df_all.pivot(index='week', columns='city', values='数字经济指数')\n",
    "print(pivot.head())"
   ]
  },
  {
   "cell_type": "code",
   "execution_count": 8,
   "id": "5201cfce",
   "metadata": {},
   "outputs": [],
   "source": [
    "pivot.to_excel(\"福建省数字经济指数1.xlsx\")"
   ]
  }
 ],
 "metadata": {
  "kernelspec": {
   "display_name": "gis",
   "language": "python",
   "name": "python3"
  },
  "language_info": {
   "codemirror_mode": {
    "name": "ipython",
    "version": 3
   },
   "file_extension": ".py",
   "mimetype": "text/x-python",
   "name": "python",
   "nbconvert_exporter": "python",
   "pygments_lexer": "ipython3",
   "version": "3.10.13"
  }
 },
 "nbformat": 4,
 "nbformat_minor": 5
}
