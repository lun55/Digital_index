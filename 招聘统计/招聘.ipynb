{
 "cells": [
  {
   "cell_type": "code",
   "execution_count": 20,
   "id": "a648bca2",
   "metadata": {},
   "outputs": [],
   "source": [
    "import pandas as pd\n",
    "import os\n",
    "\n",
    "import requests\n",
    "import json\n",
    "import os\n",
    "from datetime import datetime, timedelta\n",
    "import openpyxl\n",
    "from time import sleep\n",
    "import time\n",
    "import random"
   ]
  },
  {
   "cell_type": "code",
   "execution_count": 17,
   "id": "de9d44bd",
   "metadata": {},
   "outputs": [],
   "source": [
    "city = [\"福州\",\n",
    "        \"莆田\",\n",
    "        \"三明\",\n",
    "        \"龙岩\",\n",
    "        \"厦门\",\n",
    "        \"泉州\",\n",
    "        \"漳州\",\n",
    "        \"宁德\",\n",
    "        \"南平\"]\n",
    "years = [2022,2023,2024]\n",
    "for year in years: \n",
    "  df = pd.read_excel(f\"D:\\文档\\坚果云\\区域经济\\数字经济\\数字经济指数\\数据\\人工智能招聘大数据{year}年.xlsx\")\n",
    "  df[df['工作城市'].isin(city)].to_csv(f\"D:\\文档\\坚果云\\区域经济\\数字经济\\数字经济指数\\数据\\人工智能招聘数据\\福建{year}.csv\",index=False)"
   ]
  },
  {
   "cell_type": "code",
   "execution_count": 19,
   "id": "e76cc6a1",
   "metadata": {},
   "outputs": [
    {
     "name": "stdout",
     "output_type": "stream",
     "text": [
      "2181\n",
      "2429\n",
      "569\n"
     ]
    }
   ],
   "source": [
    "for year in years:\n",
    "    df = pd.read_csv(f\"D:\\文档\\坚果云\\区域经济\\数字经济\\数字经济指数\\数据\\人工智能招聘数据\\福建{year}.csv\")\n",
    "    print(df.__len__())"
   ]
  }
 ],
 "metadata": {
  "kernelspec": {
   "display_name": "gis",
   "language": "python",
   "name": "python3"
  },
  "language_info": {
   "codemirror_mode": {
    "name": "ipython",
    "version": 3
   },
   "file_extension": ".py",
   "mimetype": "text/x-python",
   "name": "python",
   "nbconvert_exporter": "python",
   "pygments_lexer": "ipython3",
   "version": "3.10.13"
  }
 },
 "nbformat": 4,
 "nbformat_minor": 5
}
